{
 "cells": [
  {
   "cell_type": "code",
   "execution_count": 42,
   "metadata": {
    "collapsed": true
   },
   "outputs": [],
   "source": [
    "import pandas as pd\n",
    "import numpy as np\n",
    "import matplotlib.pyplot as plt\n",
    "import seaborn as sns\n",
    "\n",
    "# Pretty display for notebooks\n",
    "%matplotlib inline"
   ]
  },
  {
   "cell_type": "code",
   "execution_count": 43,
   "metadata": {
    "collapsed": true
   },
   "outputs": [],
   "source": [
    "data = pd.read_csv(\"secondary_car_market.csv\",low_memory=False)"
   ]
  },
  {
   "cell_type": "code",
   "execution_count": 44,
   "metadata": {},
   "outputs": [
    {
     "data": {
      "text/plain": [
       "(300000, 10)"
      ]
     },
     "execution_count": 44,
     "metadata": {},
     "output_type": "execute_result"
    }
   ],
   "source": [
    "data.shape"
   ]
  },
  {
   "cell_type": "code",
   "execution_count": 45,
   "metadata": {},
   "outputs": [
    {
     "data": {
      "text/html": [
       "<div>\n",
       "<style>\n",
       "    .dataframe thead tr:only-child th {\n",
       "        text-align: right;\n",
       "    }\n",
       "\n",
       "    .dataframe thead th {\n",
       "        text-align: left;\n",
       "    }\n",
       "\n",
       "    .dataframe tbody tr th {\n",
       "        vertical-align: top;\n",
       "    }\n",
       "</style>\n",
       "<table border=\"1\" class=\"dataframe\">\n",
       "  <thead>\n",
       "    <tr style=\"text-align: right;\">\n",
       "      <th></th>\n",
       "      <th>maker</th>\n",
       "      <th>model</th>\n",
       "      <th>mileage</th>\n",
       "      <th>manufacture_year</th>\n",
       "      <th>transmission</th>\n",
       "      <th>door_count</th>\n",
       "      <th>seat_count</th>\n",
       "      <th>displacement</th>\n",
       "      <th>horse_power</th>\n",
       "      <th>price</th>\n",
       "    </tr>\n",
       "  </thead>\n",
       "  <tbody>\n",
       "    <tr>\n",
       "      <th>0</th>\n",
       "      <td>audi</td>\n",
       "      <td>a8</td>\n",
       "      <td>136702.0</td>\n",
       "      <td>2006.0</td>\n",
       "      <td>auto</td>\n",
       "      <td>4.0</td>\n",
       "      <td>5.0</td>\n",
       "      <td>3.94</td>\n",
       "      <td>271.0</td>\n",
       "      <td>12285.0</td>\n",
       "    </tr>\n",
       "    <tr>\n",
       "      <th>1</th>\n",
       "      <td>audi</td>\n",
       "      <td>a3</td>\n",
       "      <td>102526.0</td>\n",
       "      <td>2004.0</td>\n",
       "      <td>man</td>\n",
       "      <td>4</td>\n",
       "      <td>5</td>\n",
       "      <td>1.97</td>\n",
       "      <td>138.0</td>\n",
       "      <td>5500.0</td>\n",
       "    </tr>\n",
       "    <tr>\n",
       "      <th>2</th>\n",
       "      <td>audi</td>\n",
       "      <td>a3</td>\n",
       "      <td>684.0</td>\n",
       "      <td>2016.0</td>\n",
       "      <td>auto</td>\n",
       "      <td>5.0</td>\n",
       "      <td>5.0</td>\n",
       "      <td>1.97</td>\n",
       "      <td>148.0</td>\n",
       "      <td>39649.0</td>\n",
       "    </tr>\n",
       "    <tr>\n",
       "      <th>3</th>\n",
       "      <td>audi</td>\n",
       "      <td>s7</td>\n",
       "      <td>38525.0</td>\n",
       "      <td>2013.0</td>\n",
       "      <td>auto</td>\n",
       "      <td>5.0</td>\n",
       "      <td>4.0</td>\n",
       "      <td>3.99</td>\n",
       "      <td>414.0</td>\n",
       "      <td>64233.0</td>\n",
       "    </tr>\n",
       "    <tr>\n",
       "      <th>4</th>\n",
       "      <td>audi</td>\n",
       "      <td>a1</td>\n",
       "      <td>45006.0</td>\n",
       "      <td>2010.0</td>\n",
       "      <td>man</td>\n",
       "      <td>3</td>\n",
       "      <td>4</td>\n",
       "      <td>1.60</td>\n",
       "      <td>103.0</td>\n",
       "      <td>16848.0</td>\n",
       "    </tr>\n",
       "  </tbody>\n",
       "</table>\n",
       "</div>"
      ],
      "text/plain": [
       "  maker model   mileage  manufacture_year transmission door_count seat_count  \\\n",
       "0  audi    a8  136702.0            2006.0         auto        4.0        5.0   \n",
       "1  audi    a3  102526.0            2004.0          man          4          5   \n",
       "2  audi    a3     684.0            2016.0         auto        5.0        5.0   \n",
       "3  audi    s7   38525.0            2013.0         auto        5.0        4.0   \n",
       "4  audi    a1   45006.0            2010.0          man          3          4   \n",
       "\n",
       "   displacement  horse_power    price  \n",
       "0          3.94        271.0  12285.0  \n",
       "1          1.97        138.0   5500.0  \n",
       "2          1.97        148.0  39649.0  \n",
       "3          3.99        414.0  64233.0  \n",
       "4          1.60        103.0  16848.0  "
      ]
     },
     "execution_count": 45,
     "metadata": {},
     "output_type": "execute_result"
    }
   ],
   "source": [
    "data.head()"
   ]
  },
  {
   "cell_type": "code",
   "execution_count": 46,
   "metadata": {},
   "outputs": [
    {
     "data": {
      "text/html": [
       "<div>\n",
       "<style>\n",
       "    .dataframe thead tr:only-child th {\n",
       "        text-align: right;\n",
       "    }\n",
       "\n",
       "    .dataframe thead th {\n",
       "        text-align: left;\n",
       "    }\n",
       "\n",
       "    .dataframe tbody tr th {\n",
       "        vertical-align: top;\n",
       "    }\n",
       "</style>\n",
       "<table border=\"1\" class=\"dataframe\">\n",
       "  <thead>\n",
       "    <tr style=\"text-align: right;\">\n",
       "      <th></th>\n",
       "      <th>mileage</th>\n",
       "      <th>manufacture_year</th>\n",
       "      <th>displacement</th>\n",
       "      <th>horse_power</th>\n",
       "      <th>price</th>\n",
       "    </tr>\n",
       "  </thead>\n",
       "  <tbody>\n",
       "    <tr>\n",
       "      <th>count</th>\n",
       "      <td>3.000000e+05</td>\n",
       "      <td>300000.000000</td>\n",
       "      <td>300000.000000</td>\n",
       "      <td>300000.000000</td>\n",
       "      <td>3.000000e+05</td>\n",
       "    </tr>\n",
       "    <tr>\n",
       "      <th>mean</th>\n",
       "      <td>6.373923e+04</td>\n",
       "      <td>2009.096253</td>\n",
       "      <td>1.876543</td>\n",
       "      <td>136.943660</td>\n",
       "      <td>1.660514e+04</td>\n",
       "    </tr>\n",
       "    <tr>\n",
       "      <th>std</th>\n",
       "      <td>8.628841e+04</td>\n",
       "      <td>16.946915</td>\n",
       "      <td>0.904341</td>\n",
       "      <td>63.155779</td>\n",
       "      <td>5.958110e+04</td>\n",
       "    </tr>\n",
       "    <tr>\n",
       "      <th>min</th>\n",
       "      <td>0.000000e+00</td>\n",
       "      <td>39.000000</td>\n",
       "      <td>0.010000</td>\n",
       "      <td>13.000000</td>\n",
       "      <td>0.000000e+00</td>\n",
       "    </tr>\n",
       "    <tr>\n",
       "      <th>25%</th>\n",
       "      <td>1.599200e+04</td>\n",
       "      <td>2006.000000</td>\n",
       "      <td>1.560000</td>\n",
       "      <td>101.000000</td>\n",
       "      <td>4.797000e+03</td>\n",
       "    </tr>\n",
       "    <tr>\n",
       "      <th>50%</th>\n",
       "      <td>5.591400e+04</td>\n",
       "      <td>2011.000000</td>\n",
       "      <td>1.900000</td>\n",
       "      <td>123.000000</td>\n",
       "      <td>1.345500e+04</td>\n",
       "    </tr>\n",
       "    <tr>\n",
       "      <th>75%</th>\n",
       "      <td>9.693400e+04</td>\n",
       "      <td>2014.000000</td>\n",
       "      <td>1.980000</td>\n",
       "      <td>154.000000</td>\n",
       "      <td>2.327100e+04</td>\n",
       "    </tr>\n",
       "    <tr>\n",
       "      <th>max</th>\n",
       "      <td>6.213709e+06</td>\n",
       "      <td>2017.000000</td>\n",
       "      <td>32.770000</td>\n",
       "      <td>1337.000000</td>\n",
       "      <td>3.042000e+07</td>\n",
       "    </tr>\n",
       "  </tbody>\n",
       "</table>\n",
       "</div>"
      ],
      "text/plain": [
       "            mileage  manufacture_year   displacement    horse_power  \\\n",
       "count  3.000000e+05     300000.000000  300000.000000  300000.000000   \n",
       "mean   6.373923e+04       2009.096253       1.876543     136.943660   \n",
       "std    8.628841e+04         16.946915       0.904341      63.155779   \n",
       "min    0.000000e+00         39.000000       0.010000      13.000000   \n",
       "25%    1.599200e+04       2006.000000       1.560000     101.000000   \n",
       "50%    5.591400e+04       2011.000000       1.900000     123.000000   \n",
       "75%    9.693400e+04       2014.000000       1.980000     154.000000   \n",
       "max    6.213709e+06       2017.000000      32.770000    1337.000000   \n",
       "\n",
       "              price  \n",
       "count  3.000000e+05  \n",
       "mean   1.660514e+04  \n",
       "std    5.958110e+04  \n",
       "min    0.000000e+00  \n",
       "25%    4.797000e+03  \n",
       "50%    1.345500e+04  \n",
       "75%    2.327100e+04  \n",
       "max    3.042000e+07  "
      ]
     },
     "execution_count": 46,
     "metadata": {},
     "output_type": "execute_result"
    }
   ],
   "source": [
    "data.describe()"
   ]
  },
  {
   "cell_type": "code",
   "execution_count": 47,
   "metadata": {
    "collapsed": true
   },
   "outputs": [],
   "source": [
    "#The data seems to be quite skewed. The extreme values (min and max) for almost all features are very away from mean/median \n",
    "#values. We will investigate this more when we do analysis for each feature. "
   ]
  },
  {
   "cell_type": "code",
   "execution_count": 48,
   "metadata": {},
   "outputs": [
    {
     "data": {
      "text/html": [
       "<div>\n",
       "<style>\n",
       "    .dataframe thead tr:only-child th {\n",
       "        text-align: right;\n",
       "    }\n",
       "\n",
       "    .dataframe thead th {\n",
       "        text-align: left;\n",
       "    }\n",
       "\n",
       "    .dataframe tbody tr th {\n",
       "        vertical-align: top;\n",
       "    }\n",
       "</style>\n",
       "<table border=\"1\" class=\"dataframe\">\n",
       "  <thead>\n",
       "    <tr style=\"text-align: right;\">\n",
       "      <th></th>\n",
       "      <th>maker</th>\n",
       "      <th>model</th>\n",
       "      <th>transmission</th>\n",
       "      <th>door_count</th>\n",
       "      <th>seat_count</th>\n",
       "    </tr>\n",
       "  </thead>\n",
       "  <tbody>\n",
       "    <tr>\n",
       "      <th>count</th>\n",
       "      <td>300000</td>\n",
       "      <td>300000</td>\n",
       "      <td>300000</td>\n",
       "      <td>300000</td>\n",
       "      <td>300000</td>\n",
       "    </tr>\n",
       "    <tr>\n",
       "      <th>unique</th>\n",
       "      <td>3</td>\n",
       "      <td>105</td>\n",
       "      <td>2</td>\n",
       "      <td>15</td>\n",
       "      <td>33</td>\n",
       "    </tr>\n",
       "    <tr>\n",
       "      <th>top</th>\n",
       "      <td>audi</td>\n",
       "      <td>golf</td>\n",
       "      <td>man</td>\n",
       "      <td>5.0</td>\n",
       "      <td>5.0</td>\n",
       "    </tr>\n",
       "    <tr>\n",
       "      <th>freq</th>\n",
       "      <td>100000</td>\n",
       "      <td>32427</td>\n",
       "      <td>219799</td>\n",
       "      <td>93607</td>\n",
       "      <td>170526</td>\n",
       "    </tr>\n",
       "  </tbody>\n",
       "</table>\n",
       "</div>"
      ],
      "text/plain": [
       "         maker   model transmission door_count seat_count\n",
       "count   300000  300000       300000     300000     300000\n",
       "unique       3     105            2         15         33\n",
       "top       audi    golf          man        5.0        5.0\n",
       "freq    100000   32427       219799      93607     170526"
      ]
     },
     "execution_count": 48,
     "metadata": {},
     "output_type": "execute_result"
    }
   ],
   "source": [
    "data.describe(include=['object'])"
   ]
  },
  {
   "cell_type": "code",
   "execution_count": 49,
   "metadata": {
    "collapsed": true
   },
   "outputs": [],
   "source": [
    "# Total 10 features\n",
    "# 5 Continuous\n",
    "# 5 Categorical"
   ]
  },
  {
   "cell_type": "code",
   "execution_count": 50,
   "metadata": {},
   "outputs": [
    {
     "data": {
      "text/plain": [
       "maker               0\n",
       "model               0\n",
       "mileage             0\n",
       "manufacture_year    0\n",
       "transmission        0\n",
       "door_count          0\n",
       "seat_count          0\n",
       "displacement        0\n",
       "horse_power         0\n",
       "price               0\n",
       "dtype: int64"
      ]
     },
     "execution_count": 50,
     "metadata": {},
     "output_type": "execute_result"
    }
   ],
   "source": [
    "data.isnull().sum()"
   ]
  },
  {
   "cell_type": "code",
   "execution_count": 51,
   "metadata": {
    "collapsed": true
   },
   "outputs": [],
   "source": [
    "#No missing data"
   ]
  },
  {
   "cell_type": "code",
   "execution_count": 52,
   "metadata": {},
   "outputs": [
    {
     "data": {
      "image/png": "[encoded data removed]",
      "text/plain": [
       "<matplotlib.figure.Figure at 0x20200248710>"
      ]
     },
     "metadata": {},
     "output_type": "display_data"
    }
   ],
   "source": [
    "#Mileage\n",
    "plt.subplot(1,2,1)\n",
    "data['mileage'].hist(bins=20,figsize=(20,8))\n",
    "\n",
    "#Mileage\n",
    "plt.subplot(1,2,2)\n",
    "plt.boxplot(data['mileage'])\n",
    "plt.show()\n"
   ]
  },
  {
   "cell_type": "code",
   "execution_count": 53,
   "metadata": {},
   "outputs": [
    {
     "name": "stdout",
     "output_type": "stream",
     "text": [
      "Minimum value for mileage: 0.0\n",
      "Maximum value for mileage: 6213709.0\n",
      "Mean value for mileage: 63739.22895\n",
      "Median value for mileage: 55914.0\n",
      "P2 value for mileage: 6.0\n",
      "P98 value for mileage: 180198.0\n"
     ]
    },
    {
     "data": {
      "image/png": "[encoded data removed]",
      "text/plain": [
       "<matplotlib.figure.Figure at 0x202648ee3c8>"
      ]
     },
     "metadata": {},
     "output_type": "display_data"
    }
   ],
   "source": [
    "#We see that the data for mileage feature is very skewed. \n",
    "#The minimum , maximum, mean, median values are - \n",
    "print(\"Minimum value for mileage:\",data['mileage'].min())\n",
    "print(\"Maximum value for mileage:\",data['mileage'].max())\n",
    "print(\"Mean value for mileage:\",data['mileage'].mean())\n",
    "print(\"Median value for mileage:\",data['mileage'].median())\n",
    "\n",
    "#There can be many ways to remove the outliers. \n",
    "# 1. Remove the top and bottom X percent data (for example, mileage<5th percentile and mileage>95th pecentile). \n",
    "# 2. Remove only data above certain values (for example, mileage>100)\n",
    "# 3. Find 1.5 times of Inter Quartlie (Range) as say 'X'. Remove values mileage<'Q1-X' and mileage>'Q3+X'\n",
    "# 4. Some more ways based on the business/market knowledge.\n",
    "#\n",
    "# For simplicity purpose, I will be removing the top 2% and bottom 2% of data rows. \n",
    "\n",
    "#let's see what the 2nd percentile and 98th percentile values are - \n",
    "lowerBoundMileage = data['mileage'].quantile(0.02)\n",
    "upperBoundMileage = data['mileage'].quantile(0.98)\n",
    "print(\"P2 value for mileage:\",lowerBoundMileage)\n",
    "print(\"P98 value for mileage:\",upperBoundMileage)\n",
    "\n",
    "#Let's plot the mileage and see how it looks after removing the outliers. \n",
    "temp = (data['mileage'])\n",
    "temp = temp[(temp>lowerBoundMileage) & (temp<upperBoundMileage)]\n",
    "\n",
    "\n",
    "#Mileage fate removing outliers\n",
    "plt.subplot(1,2,1)\n",
    "temp.hist(bins=20,figsize=(20,8))\n",
    "plt.subplot(1,2,2)\n",
    "plt.boxplot(temp)\n",
    "plt.show()\n",
    "\n",
    "# 1. Okay now the feature looks reasonable. \n",
    "# 2. Another thing, why top and bottom 2 percent? Why not say 5 percent? Well we can certainly do that or any other outlier \n",
    "#    approach. Generally we should try different appraoches and see what make sense and gives better result. It is more like \n",
    "#    trial and error. \n",
    "# 3. Also, not every time we just plainly remove the data rows which contains outliers. We can try replacing the outlier with \n",
    "#    reasonable value too. \n",
    "# 4. But for now, I will be am using the 2% as bounds and just removing the rows."
   ]
  },
  {
   "cell_type": "code",
   "execution_count": 54,
   "metadata": {},
   "outputs": [
    {
     "data": {
      "image/png": "[encoded data removed]",
      "text/plain": [
       "<matplotlib.figure.Figure at 0x20200248cf8>"
      ]
     },
     "metadata": {},
     "output_type": "display_data"
    }
   ],
   "source": [
    "#Lets see the feature Manufacture Year\n",
    "plt.subplot(1,2,1)\n",
    "data['manufacture_year'].hist(figsize=(20,8))\n",
    "plt.subplot(1,2,2)\n",
    "plt.boxplot(x=data['manufacture_year'])\n",
    "plt.show()"
   ]
  },
  {
   "cell_type": "code",
   "execution_count": 55,
   "metadata": {
    "scrolled": true
   },
   "outputs": [
    {
     "name": "stdout",
     "output_type": "stream",
     "text": [
      "Minimum value for manufacture_year: 39.0\n",
      "Maximum value for manufacture_year: 2017.0\n",
      "Mean value for manufacture_year: 2009.0962533333334\n",
      "Median value for manufacture_year: 2011.0\n",
      "P2 value for manufacture_year: 1996.0\n",
      "P1 value for manufacture_year: 1994.0\n",
      "P0.5 value for manufacture_year: 1990.0\n"
     ]
    },
    {
     "data": {
      "image/png": "[encoded data removed]",
      "text/plain": [
       "<matplotlib.figure.Figure at 0x202672dba58>"
      ]
     },
     "metadata": {},
     "output_type": "display_data"
    }
   ],
   "source": [
    "#The manufacture_year feature data seems to be right skewed. \n",
    "#The minimum , maximum, mean, median values are - \n",
    "print(\"Minimum value for manufacture_year:\",data['manufacture_year'].min())\n",
    "print(\"Maximum value for manufacture_year:\",data['manufacture_year'].max())\n",
    "print(\"Mean value for manufacture_year:\",data['manufacture_year'].mean())\n",
    "print(\"Median value for manufacture_year:\",data['manufacture_year'].median())\n",
    "\n",
    "#For manufacture_year,we would be only removing the rows which has low values. \n",
    "#As it is a temporal feature, we want to keep the highest values as those represent the most recent year. \n",
    "\n",
    "#Let's see what the lower percentile values are - \n",
    "print(\"P2 value for manufacture_year:\",data['manufacture_year'].quantile(0.02))\n",
    "print(\"P1 value for manufacture_year:\",data['manufacture_year'].quantile(0.01))\n",
    "print(\"P0.5 value for manufacture_year:\",data['manufacture_year'].quantile(0.005))\n",
    "\n",
    "#1st percentile seems reasonable for the lower bound year. Highly unlikely that someone will purchase a car which is older than \n",
    "#15 years\n",
    "lowerBoundManufactureYear = data['manufacture_year'].quantile(0.01)\n",
    "\n",
    "#Let's plot the manufacture_year and see how it looks after removing the outliers. \n",
    "temp = (data['manufacture_year'])\n",
    "temp = temp[(temp>lowerBoundManufactureYear)]\n",
    "\n",
    "\n",
    "#manufacture_year afterfate removing outliers\n",
    "plt.subplot(1,2,1)\n",
    "temp.hist(bins=20,figsize=(20,8))\n",
    "plt.subplot(1,2,2)\n",
    "plt.boxplot(temp)\n",
    "plt.show()\n"
   ]
  },
  {
   "cell_type": "code",
   "execution_count": 56,
   "metadata": {},
   "outputs": [
    {
     "data": {
      "image/png": "[encoded data removed]",
      "text/plain": [
       "<matplotlib.figure.Figure at 0x20267295940>"
      ]
     },
     "metadata": {},
     "output_type": "display_data"
    }
   ],
   "source": [
    "#Lets see the feature Displacement\n",
    "plt.subplot(1,2,1)\n",
    "data['displacement'].hist(figsize=(20,8))\n",
    "plt.subplot(1,2,2)\n",
    "plt.boxplot(x=data['displacement'])\n",
    "plt.show()"
   ]
  },
  {
   "cell_type": "code",
   "execution_count": 57,
   "metadata": {},
   "outputs": [
    {
     "name": "stdout",
     "output_type": "stream",
     "text": [
      "Minimum value for displacement: 0.01\n",
      "Maximum value for displacement: 32.77\n",
      "Mean value for displacement: 1.876542533330281\n",
      "Median value for displacement: 1.9\n",
      "P1 value for displacement: 1.0\n",
      "P99 value for displacement: 4.16\n"
     ]
    },
    {
     "data": {
      "image/png": "[encoded data removed]",
      "text/plain": [
       "<matplotlib.figure.Figure at 0x2026548f668>"
      ]
     },
     "metadata": {},
     "output_type": "display_data"
    }
   ],
   "source": [
    "#The displacement feature data seems to be left skewed. \n",
    "#The minimum , maximum, mean, median values are - \n",
    "print(\"Minimum value for displacement:\",data['displacement'].min())\n",
    "print(\"Maximum value for displacement:\",data['displacement'].max())\n",
    "print(\"Mean value for displacement:\",data['displacement'].mean())\n",
    "print(\"Median value for displacement:\",data['displacement'].median())\n",
    "\n",
    "# For simplicity purpose, I will be removing the top 1% and bottom 1% of data rows. \n",
    "lowerBoundDisplacement = data['displacement'].quantile(0.01)\n",
    "upperBoundDisplacement = data['displacement'].quantile(0.99)\n",
    "print(\"P1 value for displacement:\",lowerBoundDisplacement)\n",
    "print(\"P99 value for displacement:\",upperBoundDisplacement)\n",
    "\n",
    "\n",
    "#Let's plot the displacement and see how it looks after removing the outliers. \n",
    "temp = (data['displacement'])\n",
    "temp = temp[(temp>lowerBoundDisplacement) & (temp<upperBoundDisplacement)]\n",
    "\n",
    "\n",
    "#Mileage after removing outliers\n",
    "plt.subplot(1,2,1)\n",
    "temp.hist(bins=20,figsize=(20,8))\n",
    "plt.subplot(1,2,2)\n",
    "plt.boxplot(temp)\n",
    "plt.show()\n"
   ]
  },
  {
   "cell_type": "code",
   "execution_count": 58,
   "metadata": {},
   "outputs": [
    {
     "data": {
      "image/png": "[encoded data removed]",
      "text/plain": [
       "<matplotlib.figure.Figure at 0x20267344c18>"
      ]
     },
     "metadata": {},
     "output_type": "display_data"
    }
   ],
   "source": [
    "#Lets see the feature Horse_Power\n",
    "plt.subplot(1,2,1)\n",
    "data['horse_power'].hist(figsize=(20,8))\n",
    "plt.subplot(1,2,2)\n",
    "plt.boxplot(x=data['horse_power'])\n",
    "plt.show()\n"
   ]
  },
  {
   "cell_type": "code",
   "execution_count": 59,
   "metadata": {},
   "outputs": [
    {
     "name": "stdout",
     "output_type": "stream",
     "text": [
      "Minimum value for horse_power: 13.0\n",
      "Maximum value for horse_power: 1337.0\n",
      "Mean value for horse_power: 136.94366\n",
      "Median value for horse_power: 123.0\n",
      "P1 value for horse_power: 59.0\n",
      "P99 value for horse_power: 366.0\n"
     ]
    },
    {
     "data": {
      "image/png": "[encoded data removed]",
      "text/plain": [
       "<matplotlib.figure.Figure at 0x202643c4c88>"
      ]
     },
     "metadata": {},
     "output_type": "display_data"
    }
   ],
   "source": [
    "#The minimum , maximum, mean, median values are - \n",
    "print(\"Minimum value for horse_power:\",data['horse_power'].min())\n",
    "print(\"Maximum value for horse_power:\",data['horse_power'].max())\n",
    "print(\"Mean value for horse_power:\",data['horse_power'].mean())\n",
    "print(\"Median value for horse_power:\",data['horse_power'].median())\n",
    "\n",
    "# For simplicity purpose, I will be removing the top 1% and bottom 1% of data rows. \n",
    "# I am not sure if 1% for upper bound is a ideal choice. I guess in practical world, we may also want to try put a limit on a \n",
    "# certain value like 500 instead of 1%.\n",
    "lowerBoundHorsePower = data['horse_power'].quantile(0.01)\n",
    "upperBoundHorsePower = data['horse_power'].quantile(0.99)\n",
    "print(\"P1 value for horse_power:\",lowerBoundHorsePower)\n",
    "print(\"P99 value for horse_power:\",upperBoundHorsePower)\n",
    "\n",
    "#Let's plot the horse_power and see how it looks after removing the outliers. \n",
    "temp = (data['horse_power'])\n",
    "temp = temp[(temp>lowerBoundHorsePower) & (temp<upperBoundHorsePower)]\n",
    "\n",
    "\n",
    "#Mileage after removing outliers\n",
    "plt.subplot(1,2,1)\n",
    "temp.hist(bins=20,figsize=(20,8))\n",
    "plt.subplot(1,2,2)\n",
    "plt.boxplot(temp)\n",
    "plt.show()"
   ]
  },
  {
   "cell_type": "code",
   "execution_count": 60,
   "metadata": {},
   "outputs": [
    {
     "data": {
      "image/png": "[encoded data removed]",
      "text/plain": [
       "<matplotlib.figure.Figure at 0x20263feaf28>"
      ]
     },
     "metadata": {},
     "output_type": "display_data"
    },
    {
     "name": "stdout",
     "output_type": "stream",
     "text": [
      "Minimum value for price: 0.0\n",
      "Maximum value for price: 30420000.0\n",
      "Mean value for price: 16605.141743333334\n",
      "Median value for price: 13455.0\n",
      "P1 value for price: 866.0\n",
      "P99 value for price: 70189.04000000004\n"
     ]
    },
    {
     "data": {
      "image/png": "[encoded data removed]",
      "text/plain": [
       "<matplotlib.figure.Figure at 0x202647ac8d0>"
      ]
     },
     "metadata": {},
     "output_type": "display_data"
    }
   ],
   "source": [
    "#Lets see the feature price\n",
    "plt.subplot(1,2,1)\n",
    "data['price'].hist(figsize=(20,8))\n",
    "plt.subplot(1,2,2)\n",
    "plt.boxplot(x=data['price'])\n",
    "plt.show()\n",
    "\n",
    "\n",
    "#The minimum , maximum, mean, median values are - \n",
    "print(\"Minimum value for price:\",data['price'].min())\n",
    "print(\"Maximum value for price:\",data['price'].max())\n",
    "print(\"Mean value for price:\",data['price'].mean())\n",
    "print(\"Median value for price:\",data['price'].median())\n",
    "\n",
    "# For simplicity purpose, I will be removing the top 1% and bottom 1% of data rows. \n",
    "# I am not sure if 1% for upper bound is a ideal choice. I guess in practical world, we may also want to try put a limit on a \n",
    "# certain value like 500 instead of 1%.\n",
    "lowerBoundPrice = data['price'].quantile(0.01)\n",
    "upperBoundPrice = data['price'].quantile(0.99)\n",
    "print(\"P1 value for price:\",lowerBoundPrice)\n",
    "print(\"P99 value for price:\",upperBoundPrice)\n",
    "\n",
    "#Let's plot the horse_power and see how it looks after removing the outliers. \n",
    "temp = (data['price'])\n",
    "temp = temp[(temp>lowerBoundPrice) & (temp<upperBoundPrice)]\n",
    "\n",
    "\n",
    "#Mileage after removing outliers\n",
    "plt.subplot(1,2,1)\n",
    "temp.hist(bins=20,figsize=(20,8))\n",
    "plt.subplot(1,2,2)\n",
    "plt.boxplot(temp)\n",
    "plt.show()"
   ]
  },
  {
   "cell_type": "code",
   "execution_count": 61,
   "metadata": {},
   "outputs": [
    {
     "name": "stdout",
     "output_type": "stream",
     "text": [
      "audi          100000\n",
      "volkswagen    100000\n",
      "ford          100000\n",
      "Name: maker, dtype: int64\n",
      "['audi' 'ford' 'volkswagen']\n"
     ]
    },
    {
     "data": {
      "text/plain": [
       "<seaborn.axisgrid.FacetGrid at 0x202644194a8>"
      ]
     },
     "execution_count": 61,
     "metadata": {},
     "output_type": "execute_result"
    },
    {
     "data": {
      "image/png": "[encoded data removed]",
      "text/plain": [
       "<matplotlib.figure.Figure at 0x20265e31940>"
      ]
     },
     "metadata": {},
     "output_type": "display_data"
    }
   ],
   "source": [
    "#Lets now explore the 'maker' categorical features\n",
    "print(data['maker'].value_counts())\n",
    "print(pd.unique(data['maker']))\n",
    "\n",
    "sns.factorplot(\"maker\",data=data,kind=\"count\",aspect=2)\n",
    "\n",
    "#Nothing much to do over here. Three car makers and all have the same number of rows. "
   ]
  },
  {
   "cell_type": "code",
   "execution_count": null,
   "metadata": {
    "collapsed": true
   },
   "outputs": [],
   "source": [
    "\n"
   ]
  },
  {
   "cell_type": "code",
   "execution_count": 62,
   "metadata": {
    "scrolled": true
   },
   "outputs": [
    {
     "name": "stdout",
     "output_type": "stream",
     "text": [
      "golf              32427\n",
      "a3                28055\n",
      "focus             27790\n",
      "fiesta            17915\n",
      "passat            15220\n",
      "a4                13803\n",
      "mondeo            13580\n",
      "polo              11514\n",
      "a6                 9178\n",
      "c-max              7850\n",
      "touran             7413\n",
      "a1                 7000\n",
      "a5                 6731\n",
      "q5                 5548\n",
      "kuga               5126\n",
      "q3                 4563\n",
      "s-max              4547\n",
      "galaxy             4501\n",
      "tiguan             4347\n",
      "ka                 4320\n",
      "caddy              4039\n",
      "transit            3781\n",
      "coupe              3526\n",
      "q7                 3338\n",
      "sharan             3045\n",
      "a8                 2626\n",
      "multivan           2436\n",
      "golf-sportsvan     2342\n",
      "tt                 2291\n",
      "fusion             2242\n",
      "                  ...  \n",
      "puma                182\n",
      "rs5                 166\n",
      "cougar              160\n",
      "explorer            152\n",
      "s7                  100\n",
      "gt                  100\n",
      "vento                79\n",
      "thunderbird          63\n",
      "sierra               58\n",
      "scorpio              58\n",
      "probe                45\n",
      "capri                44\n",
      "corrado              36\n",
      "taunus               35\n",
      "rs7                  34\n",
      "edge                 27\n",
      "windstar             24\n",
      "granada              20\n",
      "expedition           17\n",
      "f-150                16\n",
      "v8                   16\n",
      "crown-victoria       14\n",
      "marauder             13\n",
      "escape                8\n",
      "rs2                   7\n",
      "orion                 5\n",
      "taurus                4\n",
      "excursion             2\n",
      "routan                2\n",
      "contour               1\n",
      "Name: model, Length: 105, dtype: int64\n",
      "['a8' 'a3' 's7' 'a1' 'q5' 'a4' 'a2' 'a5' 'a6' '90' 'coupe' 'tt' 'a7' 'sq5'\n",
      " 'q3' 'a4-allroad' 'r8' '80' 's4' 'q7' 's5' 'a6-allroad' 'rs7' 's3' '100'\n",
      " 'rs4' '200' 'rs6' 'rs3' 's8' 's6' 'v8' 'rs5' 'rs2' 'focus' 'fiesta'\n",
      " 'c-max' 'fusion' 'transit' 'galaxy' 'escort' 'ka' 'grand-c-max' 'mondeo'\n",
      " 'b-max' 'kuga' 's-max' 'gt' 'mustang' 'tourneo-custom' 'thunderbird'\n",
      " 'tourneo-connect' 'maverick' 'contour' 'connect' 'taunus' 'explorer'\n",
      " 'cougar' 'tourneo-courier' 'puma' 'orion' 'streetka' 'granada' 'probe'\n",
      " 'sierra' 'edge' 'capri' 'scorpio' 'expedition' 'f-150' 'marauder'\n",
      " 'windstar' 'taurus' 'escape' 'crown-victoria' 'excursion' 'golf' 'polo'\n",
      " 'passat' 'golf-plus' 'passat-cc' 'multivan' 'touran' 'bora' 'tiguan'\n",
      " 'scirocco' 'golf-sportsvan' 'caddy' 'up' 'amarok' 'sharan' 'fox'\n",
      " 'transporter' 'cc' 'eos' 'phaeton' 'beetle' 'touareg' 'caravelle' 'lupo'\n",
      " 'new-beetle' 'jetta' 'vento' 'corrado' 'routan']\n"
     ]
    },
    {
     "data": {
      "text/plain": [
       "<seaborn.axisgrid.FacetGrid at 0x202648d59b0>"
      ]
     },
     "execution_count": 62,
     "metadata": {},
     "output_type": "execute_result"
    },
    {
     "data": {
      "image/png": "[encoded data removed]",
      "text/plain": [
       "<matplotlib.figure.Figure at 0x202643747b8>"
      ]
     },
     "metadata": {},
     "output_type": "display_data"
    }
   ],
   "source": [
    "#Lets now explore the model feature\n",
    "print(data['model'].value_counts())\n",
    "print(pd.unique(data['model']))\n",
    "\n",
    "sns.factorplot(\"model\",data=data,kind=\"count\",aspect=4)\n",
    "\n",
    "\n",
    "#Couple of things we can do over here. There are around 105 category values which seems a lot. \n",
    "#How to group them generally requires a good domain/business knowledge. \n",
    "# 1. For example, all the sedans can be in one group. All the minivans can be in one group and so on. \n",
    "#    So we can boil doen the maker's category values to maybe much lower than original 105. \n",
    "# 2. Once we group, we can move the groups with a very low count to a single 'Other' grop to further reduce the categories. \n",
    "#    We can keep a threshold value for a lower cut. If the 'Other' group is pointed as an 'important' feature by the model, then \n",
    "#    we can see if there is some catgeory value which needs to be taken out from 'Other'.\n",
    "# 3. for the purose of this exercise, as of now I am not planning to do any data transofrmation for the 'model' feature.\n"
   ]
  },
  {
   "cell_type": "code",
   "execution_count": 63,
   "metadata": {},
   "outputs": [
    {
     "name": "stdout",
     "output_type": "stream",
     "text": [
      "man     219799\n",
      "auto     80201\n",
      "Name: transmission, dtype: int64\n",
      "['auto' 'man']\n"
     ]
    },
    {
     "data": {
      "text/plain": [
       "<seaborn.axisgrid.FacetGrid at 0x2026731d400>"
      ]
     },
     "execution_count": 63,
     "metadata": {},
     "output_type": "execute_result"
    },
    {
     "data": {
      "image/png": "[encoded data removed]",
      "text/plain": [
       "<matplotlib.figure.Figure at 0x202002bd668>"
      ]
     },
     "metadata": {},
     "output_type": "display_data"
    }
   ],
   "source": [
    "#Lets now explore the 'transmission' categorical features\n",
    "print(data['transmission'].value_counts())\n",
    "print(pd.unique(data['transmission']))\n",
    "\n",
    "sns.factorplot(\"transmission\",data=data,kind=\"count\",aspect=2)"
   ]
  },
  {
   "cell_type": "code",
   "execution_count": 64,
   "metadata": {},
   "outputs": [
    {
     "name": "stdout",
     "output_type": "stream",
     "text": [
      "7           1\n",
      "1           1\n",
      "1.0         2\n",
      "7.0         6\n",
      "6          13\n",
      "6.0        87\n",
      "3        1261\n",
      "None     6149\n",
      "5        9046\n",
      "3.0     14843\n",
      "2       15058\n",
      "2.0     20704\n",
      "4       55942\n",
      "4.0     83280\n",
      "5.0     93607\n",
      "Name: door_count, dtype: int64\n",
      "['4.0' '4' '5.0' '3' 'None' '2' '2.0' '3.0' '5' '7.0' '7' '6' '6.0' '1.0'\n",
      " '1']\n",
      "(300000, 10)\n",
      "(293851, 10)\n",
      "1.0         3\n",
      "7.0         7\n",
      "6.0       100\n",
      "3.0     16104\n",
      "2.0     35762\n",
      "5.0    102653\n",
      "4.0    139222\n",
      "Name: door_count, dtype: int64\n"
     ]
    },
    {
     "name": "stderr",
     "output_type": "stream",
     "text": [
      "C:\\Users\\akarwa\\Anaconda3\\lib\\site-packages\\ipykernel_launcher.py:17: SettingWithCopyWarning: \n",
      "A value is trying to be set on a copy of a slice from a DataFrame.\n",
      "Try using .loc[row_indexer,col_indexer] = value instead\n",
      "\n",
      "See the caveats in the documentation: http://pandas.pydata.org/pandas-docs/stable/indexing.html#indexing-view-versus-copy\n"
     ]
    }
   ],
   "source": [
    "#Lets now explore the 'door_count' categorical features\n",
    "print(data['door_count'].value_counts().sort_values())\n",
    "print(pd.unique(data['door_count']))\n",
    "\n",
    "# 1. The interesting thing is the door count is marked as a category value and not a numeric. \n",
    "# 2. The \"1.0 and 1\", '5.0 and 5\" and more as considerd as different value. They should be considered as the same value. \n",
    "# 3. There is category value as \"None\" which doesn't make sense as how a car can have no door? It just seems bad data. \n",
    "# 4. I am getting rid of rows with value as 'None'. \n",
    "#    make \"1.0 and 1\" as same values. \n",
    "\n",
    "print(data.shape)\n",
    "#Remove rows with 'None' value\n",
    "data = data[data['door_count'] != 'None']\n",
    "\n",
    "print(data.shape)\n",
    "#Conver the column to integer type \n",
    "data['door_count'] = data['door_count'].astype(float)\n",
    "print(data['door_count'].value_counts().sort_values())\n",
    "\n",
    "# The door count values of 1,6,7 are very low. I even think these are bad values as which car has a door counts of 1,6,7? \n",
    "# So keeping the door count values reasnable to 2,3,4,5. I haven't seen a car with 3 door cont but the count (12249) is quite\n",
    "# high to just remove it. So wiil keep it. \n",
    "\n",
    "lowerBoundDoorCount = 1\n",
    "upperBoundDoorCount = 6"
   ]
  },
  {
   "cell_type": "code",
   "execution_count": 65,
   "metadata": {},
   "outputs": [
    {
     "name": "stdout",
     "output_type": "stream",
     "text": [
      "55.0         1\n",
      "57.0         1\n",
      "18           1\n",
      "74.0         1\n",
      "1            1\n",
      "20           1\n",
      "18.0         2\n",
      "14           2\n",
      "13.0         2\n",
      "15.0         3\n",
      "12.0         3\n",
      "10.0         4\n",
      "17           5\n",
      "10           5\n",
      "17.0         7\n",
      "1.0         11\n",
      "8          105\n",
      "6          237\n",
      "9          500\n",
      "8.0        586\n",
      "3          841\n",
      "6.0       1256\n",
      "9.0       1378\n",
      "2         1394\n",
      "3.0       1771\n",
      "7         2384\n",
      "2.0       3000\n",
      "None      5834\n",
      "4         9677\n",
      "7.0      11449\n",
      "4.0      22528\n",
      "5        60335\n",
      "5.0     170526\n",
      "Name: seat_count, dtype: int64\n",
      "['5.0' '5' '4.0' '4' 'None' '2' '2.0' '7' '7.0' '3' '3.0' '6' '6.0' '9.0'\n",
      " '20' '1.0' '8.0' '9' '10.0' '8' '14' '10' '13.0' '15.0' '17' '1' '17.0'\n",
      " '12.0' '18.0' '18' '57.0' '74.0' '55.0']\n",
      "(293851, 10)\n",
      "(288017, 10)\n",
      "57.0         1\n",
      "74.0         1\n",
      "20.0         1\n",
      "55.0         1\n",
      "14.0         2\n",
      "13.0         2\n",
      "18.0         3\n",
      "12.0         3\n",
      "15.0         3\n",
      "10.0         9\n",
      "1.0         12\n",
      "17.0        12\n",
      "8.0        691\n",
      "6.0       1493\n",
      "9.0       1878\n",
      "3.0       2612\n",
      "2.0       4394\n",
      "7.0      13833\n",
      "4.0      32205\n",
      "5.0     230861\n",
      "Name: seat_count, dtype: int64\n"
     ]
    }
   ],
   "source": [
    "#Lets now explore the 'seat_count' categorical features\n",
    "print(data['seat_count'].value_counts().sort_values())\n",
    "print(pd.unique(data['seat_count']))\n",
    "\n",
    "#The same analysis/data preprocesisng will go for seat_count too.\n",
    "print(data.shape)\n",
    "#Remove rows with 'None' value\n",
    "data = data[data['seat_count'] != 'None']\n",
    "\n",
    "print(data.shape)\n",
    "#Conver the column to integer type \n",
    "data['seat_count'] = data['seat_count'].astype(float)\n",
    "print(data['seat_count'].value_counts().sort_values())\n",
    "\n",
    "#Keeping the reasonable seat counts as 2,3,4,5,6,7,8,9\n",
    "\n",
    "lowerBoundSeatCount = 1\n",
    "upperBoundSeatCount = 10"
   ]
  },
  {
   "cell_type": "code",
   "execution_count": 66,
   "metadata": {},
   "outputs": [
    {
     "name": "stdout",
     "output_type": "stream",
     "text": [
      "(288017, 10)\n",
      "(273461, 10)\n",
      "(270472, 10)\n",
      "(258687, 10)\n",
      "(249485, 10)\n",
      "(246635, 10)\n",
      "(246538, 10)\n",
      "(246496, 10)\n"
     ]
    }
   ],
   "source": [
    "# Now lets remove the rows which are considered as outliers for any of the mileage, manufacture_year, displacement, horse_power, \n",
    "# price, door_count, seat_count based on the bounds calcualted above\n",
    "\n",
    "print(data.shape)\n",
    "data_subset = data[(data['mileage']>lowerBoundMileage) & \n",
    "                   (data['mileage']<upperBoundMileage)]\n",
    "print(data_subset.shape)\n",
    "\n",
    "\n",
    "data_subset = data_subset[(data_subset['manufacture_year']>lowerBoundManufactureYear) ]\n",
    "print(data_subset.shape)\n",
    "\n",
    "\n",
    "data_subset = data_subset[(data_subset['displacement']>lowerBoundDisplacement) & \n",
    "                          (data_subset['displacement']<upperBoundDisplacement)]\n",
    "print(data_subset.shape)\n",
    "\n",
    "\n",
    "data_subset = data_subset[(data_subset['horse_power']>lowerBoundHorsePower) & \n",
    "                          (data_subset['horse_power']<upperBoundHorsePower)]\n",
    "print(data_subset.shape)\n",
    "\n",
    "\n",
    "data_subset = data_subset[(data_subset['price']>lowerBoundPrice) & \n",
    "                          (data_subset['price']<upperBoundPrice)]\n",
    "print(data_subset.shape)\n",
    "\n",
    "\n",
    "data_subset = data_subset[(data_subset['door_count']>lowerBoundDoorCount) & \n",
    "                          (data_subset['door_count']<upperBoundDoorCount)]\n",
    "print(data_subset.shape)\n",
    "\n",
    "\n",
    "data_subset = data_subset[(data_subset['seat_count']>lowerBoundSeatCount) & \n",
    "                          (data_subset['seat_count']<upperBoundSeatCount)]\n",
    "print(data_subset.shape)"
   ]
  },
  {
   "cell_type": "code",
   "execution_count": 67,
   "metadata": {},
   "outputs": [
    {
     "data": {
      "image/png": "[encoded data removed]",
      "text/plain": [
       "<matplotlib.figure.Figure at 0x20263f01438>"
      ]
     },
     "metadata": {},
     "output_type": "display_data"
    }
   ],
   "source": [
    "# Numeric feature distributions\n",
    "data_subset.hist(figsize=(9,9))\n",
    "plt.show()\n"
   ]
  },
  {
   "cell_type": "code",
   "execution_count": 68,
   "metadata": {
    "collapsed": true
   },
   "outputs": [],
   "source": [
    "from sklearn.model_selection import train_test_split\n",
    "from sklearn.ensemble import RandomForestRegressor\n",
    "from sklearn import linear_model\n",
    "from sklearn.metrics import r2_score, mean_absolute_error\n"
   ]
  },
  {
   "cell_type": "code",
   "execution_count": 69,
   "metadata": {},
   "outputs": [
    {
     "data": {
      "text/html": [
       "<div>\n",
       "<style>\n",
       "    .dataframe thead tr:only-child th {\n",
       "        text-align: right;\n",
       "    }\n",
       "\n",
       "    .dataframe thead th {\n",
       "        text-align: left;\n",
       "    }\n",
       "\n",
       "    .dataframe tbody tr th {\n",
       "        vertical-align: top;\n",
       "    }\n",
       "</style>\n",
       "<table border=\"1\" class=\"dataframe\">\n",
       "  <thead>\n",
       "    <tr style=\"text-align: right;\">\n",
       "      <th></th>\n",
       "      <th>mileage</th>\n",
       "      <th>manufacture_year</th>\n",
       "      <th>door_count</th>\n",
       "      <th>seat_count</th>\n",
       "      <th>displacement</th>\n",
       "      <th>horse_power</th>\n",
       "      <th>price</th>\n",
       "      <th>maker_audi</th>\n",
       "      <th>maker_ford</th>\n",
       "      <th>maker_volkswagen</th>\n",
       "      <th>...</th>\n",
       "      <th>model_tourneo-courier</th>\n",
       "      <th>model_tourneo-custom</th>\n",
       "      <th>model_transit</th>\n",
       "      <th>model_transporter</th>\n",
       "      <th>model_tt</th>\n",
       "      <th>model_up</th>\n",
       "      <th>model_vento</th>\n",
       "      <th>model_windstar</th>\n",
       "      <th>transmission_auto</th>\n",
       "      <th>transmission_man</th>\n",
       "    </tr>\n",
       "  </thead>\n",
       "  <tbody>\n",
       "    <tr>\n",
       "      <th>0</th>\n",
       "      <td>136702.0</td>\n",
       "      <td>2006.0</td>\n",
       "      <td>4.0</td>\n",
       "      <td>5.0</td>\n",
       "      <td>3.94</td>\n",
       "      <td>271.0</td>\n",
       "      <td>12285.0</td>\n",
       "      <td>1</td>\n",
       "      <td>0</td>\n",
       "      <td>0</td>\n",
       "      <td>...</td>\n",
       "      <td>0</td>\n",
       "      <td>0</td>\n",
       "      <td>0</td>\n",
       "      <td>0</td>\n",
       "      <td>0</td>\n",
       "      <td>0</td>\n",
       "      <td>0</td>\n",
       "      <td>0</td>\n",
       "      <td>1</td>\n",
       "      <td>0</td>\n",
       "    </tr>\n",
       "    <tr>\n",
       "      <th>1</th>\n",
       "      <td>102526.0</td>\n",
       "      <td>2004.0</td>\n",
       "      <td>4.0</td>\n",
       "      <td>5.0</td>\n",
       "      <td>1.97</td>\n",
       "      <td>138.0</td>\n",
       "      <td>5500.0</td>\n",
       "      <td>1</td>\n",
       "      <td>0</td>\n",
       "      <td>0</td>\n",
       "      <td>...</td>\n",
       "      <td>0</td>\n",
       "      <td>0</td>\n",
       "      <td>0</td>\n",
       "      <td>0</td>\n",
       "      <td>0</td>\n",
       "      <td>0</td>\n",
       "      <td>0</td>\n",
       "      <td>0</td>\n",
       "      <td>0</td>\n",
       "      <td>1</td>\n",
       "    </tr>\n",
       "    <tr>\n",
       "      <th>2</th>\n",
       "      <td>684.0</td>\n",
       "      <td>2016.0</td>\n",
       "      <td>5.0</td>\n",
       "      <td>5.0</td>\n",
       "      <td>1.97</td>\n",
       "      <td>148.0</td>\n",
       "      <td>39649.0</td>\n",
       "      <td>1</td>\n",
       "      <td>0</td>\n",
       "      <td>0</td>\n",
       "      <td>...</td>\n",
       "      <td>0</td>\n",
       "      <td>0</td>\n",
       "      <td>0</td>\n",
       "      <td>0</td>\n",
       "      <td>0</td>\n",
       "      <td>0</td>\n",
       "      <td>0</td>\n",
       "      <td>0</td>\n",
       "      <td>1</td>\n",
       "      <td>0</td>\n",
       "    </tr>\n",
       "    <tr>\n",
       "      <th>4</th>\n",
       "      <td>45006.0</td>\n",
       "      <td>2010.0</td>\n",
       "      <td>3.0</td>\n",
       "      <td>4.0</td>\n",
       "      <td>1.60</td>\n",
       "      <td>103.0</td>\n",
       "      <td>16848.0</td>\n",
       "      <td>1</td>\n",
       "      <td>0</td>\n",
       "      <td>0</td>\n",
       "      <td>...</td>\n",
       "      <td>0</td>\n",
       "      <td>0</td>\n",
       "      <td>0</td>\n",
       "      <td>0</td>\n",
       "      <td>0</td>\n",
       "      <td>0</td>\n",
       "      <td>0</td>\n",
       "      <td>0</td>\n",
       "      <td>0</td>\n",
       "      <td>1</td>\n",
       "    </tr>\n",
       "    <tr>\n",
       "      <th>6</th>\n",
       "      <td>136702.0</td>\n",
       "      <td>2012.0</td>\n",
       "      <td>4.0</td>\n",
       "      <td>5.0</td>\n",
       "      <td>1.97</td>\n",
       "      <td>168.0</td>\n",
       "      <td>25632.0</td>\n",
       "      <td>1</td>\n",
       "      <td>0</td>\n",
       "      <td>0</td>\n",
       "      <td>...</td>\n",
       "      <td>0</td>\n",
       "      <td>0</td>\n",
       "      <td>0</td>\n",
       "      <td>0</td>\n",
       "      <td>0</td>\n",
       "      <td>0</td>\n",
       "      <td>0</td>\n",
       "      <td>0</td>\n",
       "      <td>1</td>\n",
       "      <td>0</td>\n",
       "    </tr>\n",
       "  </tbody>\n",
       "</table>\n",
       "<p>5 rows × 106 columns</p>\n",
       "</div>"
      ],
      "text/plain": [
       "    mileage  manufacture_year  door_count  seat_count  displacement  \\\n",
       "0  136702.0            2006.0         4.0         5.0          3.94   \n",
       "1  102526.0            2004.0         4.0         5.0          1.97   \n",
       "2     684.0            2016.0         5.0         5.0          1.97   \n",
       "4   45006.0            2010.0         3.0         4.0          1.60   \n",
       "6  136702.0            2012.0         4.0         5.0          1.97   \n",
       "\n",
       "   horse_power    price  maker_audi  maker_ford  maker_volkswagen  \\\n",
       "0        271.0  12285.0           1           0                 0   \n",
       "1        138.0   5500.0           1           0                 0   \n",
       "2        148.0  39649.0           1           0                 0   \n",
       "4        103.0  16848.0           1           0                 0   \n",
       "6        168.0  25632.0           1           0                 0   \n",
       "\n",
       "         ...         model_tourneo-courier  model_tourneo-custom  \\\n",
       "0        ...                             0                     0   \n",
       "1        ...                             0                     0   \n",
       "2        ...                             0                     0   \n",
       "4        ...                             0                     0   \n",
       "6        ...                             0                     0   \n",
       "\n",
       "   model_transit  model_transporter  model_tt  model_up  model_vento  \\\n",
       "0              0                  0         0         0            0   \n",
       "1              0                  0         0         0            0   \n",
       "2              0                  0         0         0            0   \n",
       "4              0                  0         0         0            0   \n",
       "6              0                  0         0         0            0   \n",
       "\n",
       "   model_windstar  transmission_auto  transmission_man  \n",
       "0               0                  1                 0  \n",
       "1               0                  0                 1  \n",
       "2               0                  1                 0  \n",
       "4               0                  0                 1  \n",
       "6               0                  1                 0  \n",
       "\n",
       "[5 rows x 106 columns]"
      ]
     },
     "execution_count": 69,
     "metadata": {},
     "output_type": "execute_result"
    }
   ],
   "source": [
    "# Creat dummy variables\n",
    "data_transformed = pd.get_dummies(data_subset)\n",
    "data_transformed.head()"
   ]
  },
  {
   "cell_type": "code",
   "execution_count": 70,
   "metadata": {
    "scrolled": true
   },
   "outputs": [
    {
     "data": {
      "text/html": [
       "<div>\n",
       "<style>\n",
       "    .dataframe thead tr:only-child th {\n",
       "        text-align: right;\n",
       "    }\n",
       "\n",
       "    .dataframe thead th {\n",
       "        text-align: left;\n",
       "    }\n",
       "\n",
       "    .dataframe tbody tr th {\n",
       "        vertical-align: top;\n",
       "    }\n",
       "</style>\n",
       "<table border=\"1\" class=\"dataframe\">\n",
       "  <thead>\n",
       "    <tr style=\"text-align: right;\">\n",
       "      <th></th>\n",
       "      <th>mileage</th>\n",
       "      <th>manufacture_year</th>\n",
       "      <th>door_count</th>\n",
       "      <th>seat_count</th>\n",
       "      <th>displacement</th>\n",
       "      <th>horse_power</th>\n",
       "      <th>maker_audi</th>\n",
       "      <th>maker_ford</th>\n",
       "      <th>maker_volkswagen</th>\n",
       "      <th>model_100</th>\n",
       "      <th>...</th>\n",
       "      <th>model_tourneo-courier</th>\n",
       "      <th>model_tourneo-custom</th>\n",
       "      <th>model_transit</th>\n",
       "      <th>model_transporter</th>\n",
       "      <th>model_tt</th>\n",
       "      <th>model_up</th>\n",
       "      <th>model_vento</th>\n",
       "      <th>model_windstar</th>\n",
       "      <th>transmission_auto</th>\n",
       "      <th>transmission_man</th>\n",
       "    </tr>\n",
       "  </thead>\n",
       "  <tbody>\n",
       "    <tr>\n",
       "      <th>0</th>\n",
       "      <td>136702.0</td>\n",
       "      <td>2006.0</td>\n",
       "      <td>4.0</td>\n",
       "      <td>5.0</td>\n",
       "      <td>3.94</td>\n",
       "      <td>271.0</td>\n",
       "      <td>1</td>\n",
       "      <td>0</td>\n",
       "      <td>0</td>\n",
       "      <td>0</td>\n",
       "      <td>...</td>\n",
       "      <td>0</td>\n",
       "      <td>0</td>\n",
       "      <td>0</td>\n",
       "      <td>0</td>\n",
       "      <td>0</td>\n",
       "      <td>0</td>\n",
       "      <td>0</td>\n",
       "      <td>0</td>\n",
       "      <td>1</td>\n",
       "      <td>0</td>\n",
       "    </tr>\n",
       "    <tr>\n",
       "      <th>1</th>\n",
       "      <td>102526.0</td>\n",
       "      <td>2004.0</td>\n",
       "      <td>4.0</td>\n",
       "      <td>5.0</td>\n",
       "      <td>1.97</td>\n",
       "      <td>138.0</td>\n",
       "      <td>1</td>\n",
       "      <td>0</td>\n",
       "      <td>0</td>\n",
       "      <td>0</td>\n",
       "      <td>...</td>\n",
       "      <td>0</td>\n",
       "      <td>0</td>\n",
       "      <td>0</td>\n",
       "      <td>0</td>\n",
       "      <td>0</td>\n",
       "      <td>0</td>\n",
       "      <td>0</td>\n",
       "      <td>0</td>\n",
       "      <td>0</td>\n",
       "      <td>1</td>\n",
       "    </tr>\n",
       "    <tr>\n",
       "      <th>2</th>\n",
       "      <td>684.0</td>\n",
       "      <td>2016.0</td>\n",
       "      <td>5.0</td>\n",
       "      <td>5.0</td>\n",
       "      <td>1.97</td>\n",
       "      <td>148.0</td>\n",
       "      <td>1</td>\n",
       "      <td>0</td>\n",
       "      <td>0</td>\n",
       "      <td>0</td>\n",
       "      <td>...</td>\n",
       "      <td>0</td>\n",
       "      <td>0</td>\n",
       "      <td>0</td>\n",
       "      <td>0</td>\n",
       "      <td>0</td>\n",
       "      <td>0</td>\n",
       "      <td>0</td>\n",
       "      <td>0</td>\n",
       "      <td>1</td>\n",
       "      <td>0</td>\n",
       "    </tr>\n",
       "    <tr>\n",
       "      <th>4</th>\n",
       "      <td>45006.0</td>\n",
       "      <td>2010.0</td>\n",
       "      <td>3.0</td>\n",
       "      <td>4.0</td>\n",
       "      <td>1.60</td>\n",
       "      <td>103.0</td>\n",
       "      <td>1</td>\n",
       "      <td>0</td>\n",
       "      <td>0</td>\n",
       "      <td>0</td>\n",
       "      <td>...</td>\n",
       "      <td>0</td>\n",
       "      <td>0</td>\n",
       "      <td>0</td>\n",
       "      <td>0</td>\n",
       "      <td>0</td>\n",
       "      <td>0</td>\n",
       "      <td>0</td>\n",
       "      <td>0</td>\n",
       "      <td>0</td>\n",
       "      <td>1</td>\n",
       "    </tr>\n",
       "    <tr>\n",
       "      <th>6</th>\n",
       "      <td>136702.0</td>\n",
       "      <td>2012.0</td>\n",
       "      <td>4.0</td>\n",
       "      <td>5.0</td>\n",
       "      <td>1.97</td>\n",
       "      <td>168.0</td>\n",
       "      <td>1</td>\n",
       "      <td>0</td>\n",
       "      <td>0</td>\n",
       "      <td>0</td>\n",
       "      <td>...</td>\n",
       "      <td>0</td>\n",
       "      <td>0</td>\n",
       "      <td>0</td>\n",
       "      <td>0</td>\n",
       "      <td>0</td>\n",
       "      <td>0</td>\n",
       "      <td>0</td>\n",
       "      <td>0</td>\n",
       "      <td>1</td>\n",
       "      <td>0</td>\n",
       "    </tr>\n",
       "  </tbody>\n",
       "</table>\n",
       "<p>5 rows × 105 columns</p>\n",
       "</div>"
      ],
      "text/plain": [
       "    mileage  manufacture_year  door_count  seat_count  displacement  \\\n",
       "0  136702.0            2006.0         4.0         5.0          3.94   \n",
       "1  102526.0            2004.0         4.0         5.0          1.97   \n",
       "2     684.0            2016.0         5.0         5.0          1.97   \n",
       "4   45006.0            2010.0         3.0         4.0          1.60   \n",
       "6  136702.0            2012.0         4.0         5.0          1.97   \n",
       "\n",
       "   horse_power  maker_audi  maker_ford  maker_volkswagen  model_100  \\\n",
       "0        271.0           1           0                 0          0   \n",
       "1        138.0           1           0                 0          0   \n",
       "2        148.0           1           0                 0          0   \n",
       "4        103.0           1           0                 0          0   \n",
       "6        168.0           1           0                 0          0   \n",
       "\n",
       "         ...         model_tourneo-courier  model_tourneo-custom  \\\n",
       "0        ...                             0                     0   \n",
       "1        ...                             0                     0   \n",
       "2        ...                             0                     0   \n",
       "4        ...                             0                     0   \n",
       "6        ...                             0                     0   \n",
       "\n",
       "   model_transit  model_transporter  model_tt  model_up  model_vento  \\\n",
       "0              0                  0         0         0            0   \n",
       "1              0                  0         0         0            0   \n",
       "2              0                  0         0         0            0   \n",
       "4              0                  0         0         0            0   \n",
       "6              0                  0         0         0            0   \n",
       "\n",
       "   model_windstar  transmission_auto  transmission_man  \n",
       "0               0                  1                 0  \n",
       "1               0                  0                 1  \n",
       "2               0                  1                 0  \n",
       "4               0                  0                 1  \n",
       "6               0                  1                 0  \n",
       "\n",
       "[5 rows x 105 columns]"
      ]
     },
     "execution_count": 70,
     "metadata": {},
     "output_type": "execute_result"
    }
   ],
   "source": [
    "Y=data_transformed['price']\n",
    "data_transformed=data_transformed.drop('price',axis=1)\n",
    "data_transformed.head()"
   ]
  },
  {
   "cell_type": "code",
   "execution_count": 71,
   "metadata": {
    "collapsed": true
   },
   "outputs": [],
   "source": [
    "X_train, X_test, y_train, y_test = train_test_split(data_transformed, Y, random_state=123)"
   ]
  },
  {
   "cell_type": "markdown",
   "metadata": {},
   "source": [
    "### Notes:\n",
    "Lets train a simple linear regression model and see what the R2 value and mean absolute error (MAE) looks like."
   ]
  },
  {
   "cell_type": "code",
   "execution_count": 72,
   "metadata": {},
   "outputs": [
    {
     "name": "stdout",
     "output_type": "stream",
     "text": [
      "R coefficient: 0.777900377904\n",
      "Mean absolute error: 3969.23613416\n"
     ]
    }
   ],
   "source": [
    "# Create linear regression object\n",
    "regr = linear_model.LinearRegression()\n",
    "\n",
    "# Train the model using the training sets\n",
    "regr.fit(X_train, y_train)\n",
    "\n",
    "# Make predictions using the testing set\n",
    "y_pred = regr.predict(X_test)\n",
    "\n",
    "print(\"R coefficient:\",r2_score(y_test, y_pred))\n",
    "print(\"Mean absolute error:\",mean_absolute_error(y_test, y_pred))\n",
    "\n",
    "#It is kind of expected that the linear regression will perform less than random forest as we havent scaled the data. "
   ]
  },
  {
   "cell_type": "markdown",
   "metadata": {},
   "source": [
    "### Notes:\n",
    "Lets try some feature engineering for.<br>\n",
    "1. manufacture_year - convert it into age.<br>\n",
    "2. miles_per_year - Less mile driven, higher the value? This feature will also help to differentiate between say car of 2015,2016 and both has same mileage."
   ]
  },
  {
   "cell_type": "code",
   "execution_count": 73,
   "metadata": {
    "collapsed": true
   },
   "outputs": [],
   "source": [
    "# Age of car\n",
    "data_transformed['car_age'] = 2018 - data_transformed.manufacture_year\n",
    "\n",
    "#MilesPerYear\n",
    "data_transformed['MilesPerYear'] = data_transformed['mileage']/(data_transformed['car_age']) \n",
    "\n",
    "#Drop columns which are transformed\n",
    "data_transformed=data_transformed.drop('manufacture_year',axis=1)"
   ]
  },
  {
   "cell_type": "code",
   "execution_count": 74,
   "metadata": {},
   "outputs": [
    {
     "data": {
      "text/html": [
       "<div>\n",
       "<style>\n",
       "    .dataframe thead tr:only-child th {\n",
       "        text-align: right;\n",
       "    }\n",
       "\n",
       "    .dataframe thead th {\n",
       "        text-align: left;\n",
       "    }\n",
       "\n",
       "    .dataframe tbody tr th {\n",
       "        vertical-align: top;\n",
       "    }\n",
       "</style>\n",
       "<table border=\"1\" class=\"dataframe\">\n",
       "  <thead>\n",
       "    <tr style=\"text-align: right;\">\n",
       "      <th></th>\n",
       "      <th>mileage</th>\n",
       "      <th>door_count</th>\n",
       "      <th>seat_count</th>\n",
       "      <th>displacement</th>\n",
       "      <th>horse_power</th>\n",
       "      <th>maker_audi</th>\n",
       "      <th>maker_ford</th>\n",
       "      <th>maker_volkswagen</th>\n",
       "      <th>model_100</th>\n",
       "      <th>model_200</th>\n",
       "      <th>...</th>\n",
       "      <th>model_transit</th>\n",
       "      <th>model_transporter</th>\n",
       "      <th>model_tt</th>\n",
       "      <th>model_up</th>\n",
       "      <th>model_vento</th>\n",
       "      <th>model_windstar</th>\n",
       "      <th>transmission_auto</th>\n",
       "      <th>transmission_man</th>\n",
       "      <th>car_age</th>\n",
       "      <th>MilesPerYear</th>\n",
       "    </tr>\n",
       "  </thead>\n",
       "  <tbody>\n",
       "    <tr>\n",
       "      <th>0</th>\n",
       "      <td>136702.0</td>\n",
       "      <td>4.0</td>\n",
       "      <td>5.0</td>\n",
       "      <td>3.94</td>\n",
       "      <td>271.0</td>\n",
       "      <td>1</td>\n",
       "      <td>0</td>\n",
       "      <td>0</td>\n",
       "      <td>0</td>\n",
       "      <td>0</td>\n",
       "      <td>...</td>\n",
       "      <td>0</td>\n",
       "      <td>0</td>\n",
       "      <td>0</td>\n",
       "      <td>0</td>\n",
       "      <td>0</td>\n",
       "      <td>0</td>\n",
       "      <td>1</td>\n",
       "      <td>0</td>\n",
       "      <td>12.0</td>\n",
       "      <td>11391.833333</td>\n",
       "    </tr>\n",
       "    <tr>\n",
       "      <th>1</th>\n",
       "      <td>102526.0</td>\n",
       "      <td>4.0</td>\n",
       "      <td>5.0</td>\n",
       "      <td>1.97</td>\n",
       "      <td>138.0</td>\n",
       "      <td>1</td>\n",
       "      <td>0</td>\n",
       "      <td>0</td>\n",
       "      <td>0</td>\n",
       "      <td>0</td>\n",
       "      <td>...</td>\n",
       "      <td>0</td>\n",
       "      <td>0</td>\n",
       "      <td>0</td>\n",
       "      <td>0</td>\n",
       "      <td>0</td>\n",
       "      <td>0</td>\n",
       "      <td>0</td>\n",
       "      <td>1</td>\n",
       "      <td>14.0</td>\n",
       "      <td>7323.285714</td>\n",
       "    </tr>\n",
       "    <tr>\n",
       "      <th>2</th>\n",
       "      <td>684.0</td>\n",
       "      <td>5.0</td>\n",
       "      <td>5.0</td>\n",
       "      <td>1.97</td>\n",
       "      <td>148.0</td>\n",
       "      <td>1</td>\n",
       "      <td>0</td>\n",
       "      <td>0</td>\n",
       "      <td>0</td>\n",
       "      <td>0</td>\n",
       "      <td>...</td>\n",
       "      <td>0</td>\n",
       "      <td>0</td>\n",
       "      <td>0</td>\n",
       "      <td>0</td>\n",
       "      <td>0</td>\n",
       "      <td>0</td>\n",
       "      <td>1</td>\n",
       "      <td>0</td>\n",
       "      <td>2.0</td>\n",
       "      <td>342.000000</td>\n",
       "    </tr>\n",
       "    <tr>\n",
       "      <th>4</th>\n",
       "      <td>45006.0</td>\n",
       "      <td>3.0</td>\n",
       "      <td>4.0</td>\n",
       "      <td>1.60</td>\n",
       "      <td>103.0</td>\n",
       "      <td>1</td>\n",
       "      <td>0</td>\n",
       "      <td>0</td>\n",
       "      <td>0</td>\n",
       "      <td>0</td>\n",
       "      <td>...</td>\n",
       "      <td>0</td>\n",
       "      <td>0</td>\n",
       "      <td>0</td>\n",
       "      <td>0</td>\n",
       "      <td>0</td>\n",
       "      <td>0</td>\n",
       "      <td>0</td>\n",
       "      <td>1</td>\n",
       "      <td>8.0</td>\n",
       "      <td>5625.750000</td>\n",
       "    </tr>\n",
       "    <tr>\n",
       "      <th>6</th>\n",
       "      <td>136702.0</td>\n",
       "      <td>4.0</td>\n",
       "      <td>5.0</td>\n",
       "      <td>1.97</td>\n",
       "      <td>168.0</td>\n",
       "      <td>1</td>\n",
       "      <td>0</td>\n",
       "      <td>0</td>\n",
       "      <td>0</td>\n",
       "      <td>0</td>\n",
       "      <td>...</td>\n",
       "      <td>0</td>\n",
       "      <td>0</td>\n",
       "      <td>0</td>\n",
       "      <td>0</td>\n",
       "      <td>0</td>\n",
       "      <td>0</td>\n",
       "      <td>1</td>\n",
       "      <td>0</td>\n",
       "      <td>6.0</td>\n",
       "      <td>22783.666667</td>\n",
       "    </tr>\n",
       "  </tbody>\n",
       "</table>\n",
       "<p>5 rows × 106 columns</p>\n",
       "</div>"
      ],
      "text/plain": [
       "    mileage  door_count  seat_count  displacement  horse_power  maker_audi  \\\n",
       "0  136702.0         4.0         5.0          3.94        271.0           1   \n",
       "1  102526.0         4.0         5.0          1.97        138.0           1   \n",
       "2     684.0         5.0         5.0          1.97        148.0           1   \n",
       "4   45006.0         3.0         4.0          1.60        103.0           1   \n",
       "6  136702.0         4.0         5.0          1.97        168.0           1   \n",
       "\n",
       "   maker_ford  maker_volkswagen  model_100  model_200      ...       \\\n",
       "0           0                 0          0          0      ...        \n",
       "1           0                 0          0          0      ...        \n",
       "2           0                 0          0          0      ...        \n",
       "4           0                 0          0          0      ...        \n",
       "6           0                 0          0          0      ...        \n",
       "\n",
       "   model_transit  model_transporter  model_tt  model_up  model_vento  \\\n",
       "0              0                  0         0         0            0   \n",
       "1              0                  0         0         0            0   \n",
       "2              0                  0         0         0            0   \n",
       "4              0                  0         0         0            0   \n",
       "6              0                  0         0         0            0   \n",
       "\n",
       "   model_windstar  transmission_auto  transmission_man  car_age  MilesPerYear  \n",
       "0               0                  1                 0     12.0  11391.833333  \n",
       "1               0                  0                 1     14.0   7323.285714  \n",
       "2               0                  1                 0      2.0    342.000000  \n",
       "4               0                  0                 1      8.0   5625.750000  \n",
       "6               0                  1                 0      6.0  22783.666667  \n",
       "\n",
       "[5 rows x 106 columns]"
      ]
     },
     "execution_count": 74,
     "metadata": {},
     "output_type": "execute_result"
    }
   ],
   "source": [
    "data_transformed.head()"
   ]
  },
  {
   "cell_type": "code",
   "execution_count": 75,
   "metadata": {
    "collapsed": true
   },
   "outputs": [],
   "source": [
    "X_train, X_test, y_train, y_test = train_test_split(data_transformed, Y, random_state=123)"
   ]
  },
  {
   "cell_type": "code",
   "execution_count": 76,
   "metadata": {},
   "outputs": [
    {
     "name": "stdout",
     "output_type": "stream",
     "text": [
      "R coefficient: 0.788822314216\n",
      "Mean absolute error: 3898.0277079\n"
     ]
    }
   ],
   "source": [
    "# Create linear regression object\n",
    "regr = linear_model.LinearRegression()\n",
    "\n",
    "# Train the model using the training sets\n",
    "regr.fit(X_train, y_train)\n",
    "\n",
    "# Make predictions using the testing set\n",
    "y_pred = regr.predict(X_test)\n",
    "\n",
    "print(\"R coefficient:\",r2_score(y_test, y_pred))\n",
    "print(\"Mean absolute error:\",mean_absolute_error(y_test, y_pred))"
   ]
  },
  {
   "cell_type": "markdown",
   "metadata": {},
   "source": [
    "### Notes:\n",
    "We can see that the R2 increased and the MAE also dropped down after including the 'age' and 'miles_per_year' which is what we want. \n",
    "\n",
    "Now lets try to split the mileage in buckets and add those as features."
   ]
  },
  {
   "cell_type": "code",
   "execution_count": 77,
   "metadata": {
    "collapsed": true
   },
   "outputs": [],
   "source": [
    "data_transformed['MileageLT10'] = np.where((data_transformed['mileage']<10000), 1, 0)\n",
    "\n",
    "data_transformed['MileageLT25GT10'] = np.where((data_transformed['mileage']>9999) & (data_transformed['mileage']<25000) , 1, 0)\n",
    "\n",
    "data_transformed['MileageLT50GT25'] = np.where((data_transformed['mileage']>24999) & (data_transformed['mileage']<50000) , 1, 0)\n",
    "\n",
    "data_transformed['MileageLT75GT50'] = np.where((data_transformed['mileage']>49999) & (data_transformed['mileage']<75000) , 1, 0)\n",
    "\n",
    "data_transformed['MileageLT100GT75'] = np.where((data_transformed['mileage']>74999) & (data_transformed['mileage']<100000) , 1, 0)\n",
    "\n",
    "data_transformed['MileageLT125GT100'] = np.where((data_transformed['mileage']>99999) & (data_transformed['mileage']<125000) , 1, 0)\n",
    "\n",
    "data_transformed['MileageLT150GT125'] = np.where((data_transformed['mileage']>124999) & (data_transformed['mileage']<150000) , 1, 0)\n",
    "\n",
    "data_transformed['MileageGT150'] = np.where((data_transformed['mileage']>150000) , 1, 0)"
   ]
  },
  {
   "cell_type": "code",
   "execution_count": 78,
   "metadata": {
    "collapsed": true
   },
   "outputs": [],
   "source": [
    "X_train, X_test, y_train, y_test = train_test_split(data_transformed, Y, random_state=123)"
   ]
  },
  {
   "cell_type": "code",
   "execution_count": 79,
   "metadata": {},
   "outputs": [
    {
     "name": "stdout",
     "output_type": "stream",
     "text": [
      "R coefficient: 0.791790056543\n",
      "Mean absolute error: 3867.21775438\n"
     ]
    }
   ],
   "source": [
    "# Create linear regression object\n",
    "regr = linear_model.LinearRegression()\n",
    "\n",
    "# Train the model using the training sets\n",
    "regr.fit(X_train, y_train)\n",
    "\n",
    "# Make predictions using the testing set\n",
    "y_pred = regr.predict(X_test)\n",
    "\n",
    "print(\"R coefficient:\",r2_score(y_test, y_pred))\n",
    "print(\"Mean absolute error:\",mean_absolute_error(y_test, y_pred))"
   ]
  },
  {
   "cell_type": "markdown",
   "metadata": {},
   "source": [
    "### Notes:\n",
    "* After adding different buckets for mileage, the performnace improved slighty.\n",
    "* I think the buckets can be choosen more wisely based on busines knowledge or some more deatiled analysis. Right now I just choose the buckets on some intuition and lookng at the original distribution. But I think we can still exploit the feature more.\n",
    "* Till now we did quite a lot of data cleaning and did some feature engineering to see how to improve the model performance. \n",
    "* The goal was to learn to detect the outliers, do some data cleaning and feature engineering. \n",
    "* <b>In future, we can do some more data preprocessing (like normalization) and data preprocessing (which more feature can be exploited?)</b>. \n",
    "* We can also implement a tree based regressor random forest) to see the important features for the model.\n",
    "* That's it for now! Cheers!!!\n"
   ]
  },
  {
   "cell_type": "code",
   "execution_count": null,
   "metadata": {
    "collapsed": true
   },
   "outputs": [],
   "source": []
  }
 ],
 "metadata": {
  "kernelspec": {
   "display_name": "Python 3",
   "language": "python",
   "name": "python3"
  },
  "language_info": {
   "codemirror_mode": {
    "name": "ipython",
    "version": 3
   },
   "file_extension": ".py",
   "mimetype": "text/x-python",
   "name": "python",
   "nbconvert_exporter": "python",
   "pygments_lexer": "ipython3",
   "version": "3.6.2"
  }
 },
 "nbformat": 4,
 "nbformat_minor": 2
}
